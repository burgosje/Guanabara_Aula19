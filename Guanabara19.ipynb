{
  "nbformat": 4,
  "nbformat_minor": 0,
  "metadata": {
    "colab": {
      "provenance": [],
      "authorship_tag": "ABX9TyOcKJr/de94YSNnyxAB0Ezc",
      "include_colab_link": true
    },
    "kernelspec": {
      "name": "python3",
      "display_name": "Python 3"
    },
    "language_info": {
      "name": "python"
    }
  },
  "cells": [
    {
      "cell_type": "markdown",
      "metadata": {
        "id": "view-in-github",
        "colab_type": "text"
      },
      "source": [
        "<a href=\"https://colab.research.google.com/github/burgosje/Guanabara_Aula19/blob/main/Guanabara19.ipynb\" target=\"_parent\"><img src=\"https://colab.research.google.com/assets/colab-badge.svg\" alt=\"Open In Colab\"/></a>"
      ]
    },
    {
      "cell_type": "markdown",
      "source": [
        "Aula 19 Curso em Vídeo Guanabara"
      ],
      "metadata": {
        "id": "wnpwCgRzuCTw"
      }
    },
    {
      "cell_type": "markdown",
      "source": [
        "Variavéis compostas (dicionários)"
      ],
      "metadata": {
        "id": "JG7Z517TfpZP"
      }
    },
    {
      "cell_type": "markdown",
      "source": [
        "Dicionários: semelhantes às tuplas e às listas. Podem ter valores literais personalizados"
      ],
      "metadata": {
        "id": "owRnhr0agJiR"
      }
    },
    {
      "cell_type": "code",
      "source": [
        "pessoas = {\"nome\": \"Gustavo\", \"sexo\": \"M\", \"idade\": 22}\n",
        "print(pessoas)\n",
        "print(pessoas[\"idade\"])\n",
        "print(f'O {pessoas[\"nome\"]} tem {pessoas[\"idade\"]} anos')\n",
        "print(pessoas.keys())\n",
        "print(pessoas.values())\n",
        "print(pessoas.items())\n",
        "\n",
        "for k in pessoas.keys():\n",
        "  print(k)\n",
        "\n",
        "for k in pessoas.values():\n",
        "  print(k)\n",
        "\n",
        "for k, v in pessoas.items():\n",
        "  print(f\"{k} = {v}\")"
      ],
      "metadata": {
        "id": "R-Qielv1Bp5S",
        "colab": {
          "base_uri": "https://localhost:8080/"
        },
        "outputId": "8f6555cc-9297-4e01-d2af-4b6cb216465d"
      },
      "execution_count": 2,
      "outputs": [
        {
          "output_type": "stream",
          "name": "stdout",
          "text": [
            "{'nome': 'Gustavo', 'sexo': 'M', 'idade': 22}\n",
            "22\n",
            "O Gustavo tem 22 anos\n",
            "dict_keys(['nome', 'sexo', 'idade'])\n",
            "dict_values(['Gustavo', 'M', 22])\n",
            "dict_items([('nome', 'Gustavo'), ('sexo', 'M'), ('idade', 22)])\n",
            "nome\n",
            "sexo\n",
            "idade\n",
            "Gustavo\n",
            "M\n",
            "22\n",
            "nome = Gustavo\n",
            "sexo = M\n",
            "idade = 22\n"
          ]
        }
      ]
    },
    {
      "cell_type": "code",
      "source": [
        "pessoas = {\"nome\": \"Gustavo\", \"sexo\": \"M\", \"idade\": 22}\n",
        "\n",
        "del pessoas[\"sexo\"]\n",
        "pessoas[\"nome\"] = \"Leandro\"\n",
        "pessoas[\"peso\"] = 98.5\n",
        "\n",
        "for k, v in pessoas.items():\n",
        "  print(f\"{k} = {v}\")"
      ],
      "metadata": {
        "colab": {
          "base_uri": "https://localhost:8080/"
        },
        "id": "B8WTo8LsDxws",
        "outputId": "4729f32f-5b65-4aa2-836b-b1924f1513c6"
      },
      "execution_count": 3,
      "outputs": [
        {
          "output_type": "stream",
          "name": "stdout",
          "text": [
            "nome = Leandro\n",
            "idade = 22\n",
            "peso = 98.5\n"
          ]
        }
      ]
    },
    {
      "cell_type": "code",
      "source": [
        "brasil = []\n",
        "estado1 = {\"UF\": \"Rio de Janeiro\", \"sigla\": \"RJ\"}\n",
        "estado2 = {\"UF\": \"São Paulo\", \"sigla\": \"SP\"}\n",
        "brasil.append(estado1)\n",
        "brasil.append(estado2)\n",
        "\n",
        "print(estado1)\n",
        "print(estado2)\n",
        "print(brasil)\n",
        "print(brasil[0])\n",
        "print(brasil[0][\"UF\"])"
      ],
      "metadata": {
        "colab": {
          "base_uri": "https://localhost:8080/"
        },
        "id": "84v9XxkwEca9",
        "outputId": "f914a07a-f2d2-4318-ea0b-a9e04a3811cb"
      },
      "execution_count": null,
      "outputs": [
        {
          "output_type": "stream",
          "name": "stdout",
          "text": [
            "{'UF': 'Rio de Janeiro', 'sigla': 'RJ'}\n",
            "{'UF': 'São Paulo', 'sigla': 'SP'}\n",
            "[{'UF': 'Rio de Janeiro', 'sigla': 'RJ'}, {'UF': 'São Paulo', 'sigla': 'SP'}]\n",
            "{'UF': 'Rio de Janeiro', 'sigla': 'RJ'}\n",
            "Rio de Janeiro\n"
          ]
        }
      ]
    },
    {
      "cell_type": "code",
      "source": [
        "estado = dict()\n",
        "brasil = list()\n",
        "\n",
        "for c in range(0, 3):\n",
        "  estado[\"uf\"] = input(\"Unidade Federativa: \")\n",
        "  estado[\"sigla\"] = input(\"Sigla do Estado \")\n",
        "  brasil.append(estado.copy())\n",
        "\n",
        "for e in brasil:\n",
        "  print(e)"
      ],
      "metadata": {
        "colab": {
          "base_uri": "https://localhost:8080/"
        },
        "id": "x9HAfozTFVKf",
        "outputId": "fb36516c-46b5-4c19-88d1-071896e0090f"
      },
      "execution_count": null,
      "outputs": [
        {
          "output_type": "stream",
          "name": "stdout",
          "text": [
            "Unidade Federativa: Pernambuco\n",
            "Sigla do Estado Pe\n",
            "Unidade Federativa: Paraíba\n",
            "Sigla do Estado PA\n",
            "Unidade Federativa: Acre\n",
            "Sigla do Estado AC\n",
            "{'uf': 'Pernambuco', 'sigla': 'Pe'}\n",
            "{'uf': 'Paraíba', 'sigla': 'PA'}\n",
            "{'uf': 'Acre', 'sigla': 'AC'}\n"
          ]
        }
      ]
    },
    {
      "cell_type": "code",
      "source": [
        "estado = dict()\n",
        "brasil = list()\n",
        "\n",
        "for c in range(0, 3):\n",
        "  estado[\"uf\"] = input(\"Unidade Federativa: \")\n",
        "  estado[\"sigla\"] = input(\"Sigla do Estado \")\n",
        "  brasil.append(estado.copy())\n",
        "\n",
        "for e in brasil:\n",
        "  for k, v in e.items():\n",
        "    print(f\"O campo {k} tem valor {v}\")"
      ],
      "metadata": {
        "id": "cJUrwdXlHKsO",
        "colab": {
          "base_uri": "https://localhost:8080/"
        },
        "outputId": "b28259da-4859-458d-80b9-cd00e111260e"
      },
      "execution_count": 5,
      "outputs": [
        {
          "output_type": "stream",
          "name": "stdout",
          "text": [
            "Unidade Federativa: Pernambuco\n",
            "Sigla do Estado PE\n",
            "Unidade Federativa: Paraíba\n",
            "Sigla do Estado PB\n",
            "Unidade Federativa: Ceará\n",
            "Sigla do Estado CE\n",
            "O campo uf tem valor Pernambuco\n",
            "O campo sigla tem valor PE\n",
            "O campo uf tem valor Paraíba\n",
            "O campo sigla tem valor PB\n",
            "O campo uf tem valor Ceará\n",
            "O campo sigla tem valor CE\n"
          ]
        }
      ]
    },
    {
      "cell_type": "code",
      "source": [
        "estado = dict()\n",
        "brasil = list()\n",
        "\n",
        "for c in range(0, 3):\n",
        "  estado[\"uf\"] = input(\"Unidade Federativa: \")\n",
        "  estado[\"sigla\"] = input(\"Sigla do Estado \")\n",
        "  brasil.append(estado.copy())\n",
        "\n",
        "for e in brasil:\n",
        "  for v in e.values():\n",
        "    print(v, end=\" \")\n",
        "  print()"
      ],
      "metadata": {
        "id": "gImHheKVHgmR",
        "colab": {
          "base_uri": "https://localhost:8080/"
        },
        "outputId": "a498053e-2995-4df9-89c1-ff9d9c7d9700"
      },
      "execution_count": 6,
      "outputs": [
        {
          "output_type": "stream",
          "name": "stdout",
          "text": [
            "Unidade Federativa: Pernambuco\n",
            "Sigla do Estado PE\n",
            "Unidade Federativa: Paraíba\n",
            "Sigla do Estado PB\n",
            "Unidade Federativa: Ceará\n",
            "Sigla do Estado CE\n",
            "Pernambuco PE \n",
            "Paraíba PB \n",
            "Ceará CE \n"
          ]
        }
      ]
    },
    {
      "cell_type": "code",
      "source": [
        "#Faça um programa que leia nome e média de um aluno guardando também a situação\n",
        "#em um dicionário. No final, mostre o conteúdo da estrutura na tela\n",
        "\n",
        "aluno = dict()\n",
        "aluno[\"Nome\"] = input(\"Nome: \")\n",
        "aluno[\"Média\"] = float(input(f\"A média de {aluno['Nome']}: \"))\n",
        "\n",
        "if aluno[\"Média\"] >= 7:\n",
        "  aluno[\"Situação\"] = \"Aprovade\"\n",
        "elif 5 <= aluno[\"Média\"] < 7:\n",
        "  aluno[\"Situação\"] = \"Recuperação\"\n",
        "else:\n",
        "  aluno[\"Situação\"] = \"Reprovado\"\n",
        "print()\n",
        "\n",
        "for k, v in aluno.items():\n",
        "  print(f\"{k} é igual a {v}\")"
      ],
      "metadata": {
        "colab": {
          "base_uri": "https://localhost:8080/"
        },
        "id": "nFca_spSIDsF",
        "outputId": "27feb040-8042-4ad5-f469-830ad2984bcb"
      },
      "execution_count": null,
      "outputs": [
        {
          "output_type": "stream",
          "name": "stdout",
          "text": [
            "Nome: Jé\n",
            "A média de Jé: 10\n",
            "\n",
            "Nome é igual a Jé\n",
            "Média é igual a 10.0\n",
            "Situação é igual a Aprovade\n"
          ]
        }
      ]
    },
    {
      "cell_type": "code",
      "source": [
        "#Crie um programa onde 4 jogadores joguem um dado e tenham resultados aleatórios.\n",
        "#Guarde esses resultados em um dicionário. No final, coloque esse dicionário em\n",
        "#ordem, sabendo que o vencedor tirou o maior número no dador\n",
        "\n",
        "from random import randint\n",
        "from time import sleep\n",
        "from operator import itemgetter\n",
        "\n",
        "jogo = {\"jogador1\": randint(1,6),\n",
        "        \"jogador2\": randint(1,6),\n",
        "        \"jogador3\": randint(1,6),\n",
        "        \"jogador4\": randint(1,6)}\n",
        "\n",
        "ranking = list()\n",
        "\n",
        "print(\"Valores sorteados: \")\n",
        "for k, v in jogo.items():\n",
        "  print(f\"{k} tirou {v} no dado\")\n",
        "  sleep(1)\n",
        "\n",
        "ranking = sorted(jogo.items(), key=itemgetter(1), reverse=True)\n",
        "\n",
        "print(\"\\nRanking dos jogadores:\")\n",
        "\n",
        "for i, v in enumerate(ranking):\n",
        "    print(f\"{i+1}º lugar: {v[0]} com {v[1]}\")\n",
        "    sleep(1)"
      ],
      "metadata": {
        "colab": {
          "base_uri": "https://localhost:8080/"
        },
        "id": "_J_h9Il6NMr2",
        "outputId": "3c89184e-eab1-4710-9cd2-80fa0b888770"
      },
      "execution_count": null,
      "outputs": [
        {
          "output_type": "stream",
          "name": "stdout",
          "text": [
            "Valores sorteados: \n",
            "jogador1 tirou 5 no dado\n",
            "jogador2 tirou 1 no dado\n",
            "jogador3 tirou 2 no dado\n",
            "jogador4 tirou 6 no dado\n",
            "\n",
            "Ranking dos jogadores:\n",
            "1º lugar: jogador4 com 6\n",
            "2º lugar: jogador1 com 5\n",
            "3º lugar: jogador3 com 2\n",
            "4º lugar: jogador2 com 1\n"
          ]
        }
      ]
    },
    {
      "cell_type": "code",
      "source": [
        "#Crie um programa que leia nome, ano de nascimento e carteira de trabalho e\n",
        "#cadastre-os (com idade) em um dicionário se por acaso a CTPS for diferente\n",
        "#zero, o dicionário receberá também o ano de contratação e o salário. Calcule\n",
        "#e acrescente, além da idade, com quantos anos a pessoa vai se aposentar."
      ],
      "metadata": {
        "id": "hmfZ25bVouC5"
      },
      "execution_count": null,
      "outputs": []
    }
  ]
}